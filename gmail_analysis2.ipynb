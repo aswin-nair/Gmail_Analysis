{
 "cells": [
  {
   "cell_type": "code",
   "execution_count": null,
   "metadata": {},
   "outputs": [],
   "source": [
    "import imapclient\n",
    "import smtplib"
   ]
  },
  {
   "cell_type": "code",
   "execution_count": null,
   "metadata": {},
   "outputs": [],
   "source": [
    "imap_server = 'imap.gmail.com'\n",
    "smtp_server = 'smtp.gmail.com'\n",
    "username = 'mail_id'\n",
    "password = 'password'\n",
    "\n",
    "imapobj = imapclient.IMAPClient(imap_server, ssl=True)\n",
    "imapobj.login(username, password)\n",
    "\n",
    "smtpobj = smtplib.SMTP(smtp_server, 587)\n",
    "smtpobj.ehlo()\n",
    "smtpobj.starttls()\n",
    "smtpobj.login(username, password)"
   ]
  },
  {
   "cell_type": "code",
   "execution_count": null,
   "metadata": {},
   "outputs": [],
   "source": [
    "\n",
    "import imaplib\n",
    "import pprint\n",
    "\n",
    "pprint.pprint(imapobj.list_folders())\n",
    "\n",
    "imaplib._MAXLINE = 10000000\n",
    "\n",
    "imapobj.select_folder('Inbox', readonly=True)\n",
    "UIDs = imapobj.search(['SINCE', '01-Aug-2022', 'BEFORE', '30-Sep-2022'])"
   ]
  },
  {
   "cell_type": "code",
   "execution_count": null,
   "metadata": {},
   "outputs": [],
   "source": [
    "category = []\n",
    "for i in range(len(UIDs)):\n",
    "    label_dict = imapobj.get_gmail_labels(UIDs[i])\n",
    "    label = label_dict[UIDs[i]]\n",
    "    if 'Starred' in str(label):\n",
    "        category.append('Starred')\n",
    "    elif 'Important' in str(label):\n",
    "        category.append('Important')\n",
    "    elif len(label) == 0:\n",
    "        category.append('Inbox')\n",
    "    else:\n",
    "        category.append('Custom Label')"
   ]
  },
  {
   "cell_type": "code",
   "execution_count": null,
   "metadata": {},
   "outputs": [],
   "source": [
    "import pandas as pd\n",
    "category1 = pd.DataFrame(category, columns=['Category'])\n",
    "category1['Category'].value_counts()\n",
    "category1.head()"
   ]
  },
  {
   "cell_type": "code",
   "execution_count": null,
   "metadata": {},
   "outputs": [],
   "source": [
    "len(UIDs)"
   ]
  },
  {
   "cell_type": "code",
   "execution_count": null,
   "metadata": {},
   "outputs": [],
   "source": [
    "import pyzmail\n",
    "from_addresses = []\n",
    "subjects = []\n",
    "dates = []\n",
    "days = []\n",
    "months = []\n",
    "years = []\n",
    "times = []\n",
    "sent_received = []\n",
    "unsub_links = []\n",
    "\n",
    "for i in range(len(UIDs)):\n",
    "    raw_message = imapobj.fetch(UIDs[i], ['BODY[]'])\n",
    "    message = pyzmail.PyzMessage.factory(raw_message[UIDs[i]][b'BODY[]'])\n",
    "\n",
    "    if message.get_address('from')[1] == username:\n",
    "        sent_received.append('Sent')\n",
    "    else:\n",
    "        sent_received.append('Received')\n",
    "\n",
    "    full_date = message.get_decoded_header('date')\n",
    "    from_addresses.append(message.get_address('from'))\n",
    "    subjects.append(message.get_subject(''))\n",
    "\n",
    "    day = full_date.split()[0].strip(',')\n",
    "    date = full_date.split()[1]\n",
    "    month = full_date.split()[2]\n",
    "    year = full_date.split()[3]\n",
    "    time = full_date.split()[4]\n",
    "\n",
    "    days.append(day)\n",
    "    dates.append(date)\n",
    "    months.append(month)\n",
    "    years.append(year)\n",
    "    times.append(time)"
   ]
  },
  {
   "cell_type": "code",
   "execution_count": null,
   "metadata": {},
   "outputs": [],
   "source": [
    "from openpyxl import Workbook\n",
    "wb = Workbook()\n",
    "ws = wb.active\n",
    "ws.title = \"email_info\"\n",
    "ws.cell(1,1).value = \"Date\"\n",
    "ws.cell(1,2).value = \"Month\"\n",
    "ws.cell(1,3).value = \"Year\"\n",
    "ws.cell(1,4).value = \"Day\"\n",
    "ws.cell(1,5).value = \"Time\"\n",
    "ws.cell(1,6).value = \"From (Sender)\"\n",
    "ws.cell(1,7).value = \"From (Email ID)\"\n",
    "ws.cell(1,8).value = \"Subject\"\n",
    "ws.cell(1,9).value = \"Sent/Received\"\n",
    "ws.cell(1,10).value = \"Category\"\n",
    "for i in range(len(UIDs)):\n",
    "    ws.cell(row=i+2, column=1).value = dates[i]\n",
    "    ws.cell(row=i+2, column=2).value = months[i]\n",
    "    ws.cell(row=i+2, column=3).value = years[i]\n",
    "    ws.cell(row=i+2, column=4).value = days[i]\n",
    "    ws.cell(row=i+2, column=5).value = times[i]\n",
    "    ws.cell(row = i+2, column = 6).value = from_addresses[i][0]\n",
    "    ws.cell(row = i+2, column = 7).value = from_addresses[i][1]\n",
    "    ws.cell(row = i+2, column = 8).value = str(subjects[i])\n",
    "    ws.cell(row=i + 2, column=9).value = sent_received[i]\n",
    "    ws.cell(row=i+2, column=10).value = category[i]\n",
    "\n",
    "wb.save('Email_Analytics1.xlsx')"
   ]
  },
  {
   "cell_type": "code",
   "execution_count": null,
   "metadata": {},
   "outputs": [],
   "source": [
    "import pandas as pd\n",
    "data = pd.read_excel('Email_Analytics1.xlsx')\n"
   ]
  },
  {
   "cell_type": "code",
   "execution_count": null,
   "metadata": {},
   "outputs": [],
   "source": [
    "data.head()"
   ]
  },
  {
   "cell_type": "code",
   "execution_count": null,
   "metadata": {},
   "outputs": [],
   "source": [
    "import matplotlib.pyplot as plt\n",
    "received = data[data['Sent/Received'] == 'Received']\n",
    "sender_top_20 =  received['From (Sender)'].value_counts().nlargest(20)\n",
    "sender_top_20_count = sender_top_20.values\n",
    "sender_top_20_names = sender_top_20.index.tolist()\n",
    "\n",
    "plt.figure()\n",
    "plt.barh(sender_top_20_names, sender_top_20_count, color = 'forestgreen', ec = 'black', linewidth = 0.50)\n",
    "plt.gca().invert_yaxis()\n",
    "plt.title('Top 20 Senders', fontsize = 15 ,fontweight = 'bold')\n",
    "plt.xlabel('Received Email Count', fontweight = 'bold')\n",
    "plt.tight_layout()"
   ]
  },
  {
   "cell_type": "code",
   "execution_count": null,
   "metadata": {},
   "outputs": [],
   "source": [
    "import matplotlib.pyplot as plt\n",
    "from wordcloud import WordCloud, STOPWORDS\n",
    "text = data['From (Sender)'].values\n",
    "stopwords = set(STOPWORDS)\n",
    "stopwords.update([\" \"]) #You can add stopwords if you have any \n",
    "wordcloud = WordCloud(stopwords=stopwords, background_color=\"white\", width=800, height=400).generate(str(text))\n",
    "plt.figure(figsize = (15, 20), facecolor = None) \n",
    "plt.imshow(wordcloud)\n",
    "plt.axis(\"off\")\n",
    "plt.show()"
   ]
  },
  {
   "cell_type": "code",
   "execution_count": null,
   "metadata": {},
   "outputs": [],
   "source": []
  },
  {
   "cell_type": "code",
   "execution_count": null,
   "metadata": {},
   "outputs": [],
   "source": []
  }
 ],
 "metadata": {
  "kernelspec": {
   "display_name": "Python 3 (ipykernel)",
   "language": "python",
   "name": "python3"
  },
  "language_info": {
   "codemirror_mode": {
    "name": "ipython",
    "version": 3
   },
   "file_extension": ".py",
   "mimetype": "text/x-python",
   "name": "python",
   "nbconvert_exporter": "python",
   "pygments_lexer": "ipython3",
   "version": "3.9.12"
  },
  "vscode": {
   "interpreter": {
    "hash": "b06eedd581dc100c78cf59afb2864e27a92de6e601d069d54df605813c483f4a"
   }
  }
 },
 "nbformat": 4,
 "nbformat_minor": 2
}
